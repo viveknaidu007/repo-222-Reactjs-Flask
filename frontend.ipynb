{
 "cells": [
  {
   "cell_type": "code",
   "execution_count": null,
   "metadata": {
    "vscode": {
     "languageId": "plaintext"
    }
   },
   "outputs": [],
   "source": [
    "npm create vite@latest\n",
    "\n",
    "npm install axios\n",
    "npm install react-router-dom\n",
    "\n",
    "\n",
    "npm run dev"
   ]
  }
 ],
 "metadata": {
  "language_info": {
   "name": "python"
  }
 },
 "nbformat": 4,
 "nbformat_minor": 2
}
